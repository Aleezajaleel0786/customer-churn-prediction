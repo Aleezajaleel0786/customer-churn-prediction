{
 "cells": [
  {
   "cell_type": "code",
   "execution_count": 1,
   "id": "fef36070",
   "metadata": {},
   "outputs": [],
   "source": [
    "import tensorflow as tf\n",
    "from   tensorflow.keras.models  import load_model\n",
    "import pickle\n",
    "import pandas as pd\n",
    "import numpy as np"
   ]
  },
  {
   "cell_type": "code",
   "execution_count": 2,
   "id": "09d88e6e",
   "metadata": {},
   "outputs": [],
   "source": [
    "## Load the trained model, scaler pickle, Onehot\n",
    "\n",
    "model= load_model(\"model.h5\")\n",
    "\n",
    "with open(\"Onehot_encoder_geo.pkl\",\"rb\") as file:\n",
    "    label_encoder_geo = pickle.load(file)\n",
    "    \n",
    "with open(\"label_encoder_gender.pkl\",\"rb\") as file:\n",
    "    label_encoder_gender = pickle.load(file)\n",
    "    \n",
    "    with open(\"scaler.pkl\",\"rb\") as file:\n",
    "        scaler = pickle.load(file)\n",
    "    "
   ]
  },
  {
   "cell_type": "code",
   "execution_count": 3,
   "id": "271997bf",
   "metadata": {},
   "outputs": [],
   "source": [
    "input_data = {\n",
    "\"CreditScore\" : 600 ,\n",
    "\"Geography\" : \"France\",\n",
    "\"Gender\" : \"Male\",\n",
    "\"Age\" : 40,\n",
    "\"Tenure\" : 3,\n",
    "\"Balance\" : \"60000\",\n",
    "\"Numofproducts\" :2 ,\n",
    "\"HasCrCard\" : 1 ,\n",
    "\"IsActiveMmber\" : \"1\",\n",
    "\"EstimatedSalary\" : \"50000\"}"
   ]
  },
  {
   "cell_type": "code",
   "execution_count": null,
   "id": "0a60a1e8",
   "metadata": {},
   "outputs": [],
   "source": []
  }
 ],
 "metadata": {
  "kernelspec": {
   "display_name": "Ann_py10_new",
   "language": "python",
   "name": "python3"
  },
  "language_info": {
   "codemirror_mode": {
    "name": "ipython",
    "version": 3
   },
   "file_extension": ".py",
   "mimetype": "text/x-python",
   "name": "python",
   "nbconvert_exporter": "python",
   "pygments_lexer": "ipython3",
   "version": "3.10.11"
  }
 },
 "nbformat": 4,
 "nbformat_minor": 5
}
